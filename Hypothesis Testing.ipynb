{
 "cells": [
  {
   "cell_type": "code",
   "execution_count": 42,
   "id": "2b9aad51",
   "metadata": {},
   "outputs": [],
   "source": [
    "x = 3050\n",
    "μ = 4000\n",
    "σ = 5*25 \n",
    "n = 25 \n",
    "\n",
    "#Hypothesis Statement : Z-sample test is used while comparing sample statistics to population parameter using\n",
    "#standard normal distribution(z_test)"
   ]
  },
  {
   "cell_type": "code",
   "execution_count": 43,
   "id": "4105bd4e",
   "metadata": {},
   "outputs": [],
   "source": [
    "#Let's assume two cases, one of the case stating that the theoretical mean is accurate, where the observations and sample mean's do not have major difference.\n",
    "#This will be the null hypothesis (H0)\n",
    "#Second case assumption will be theoretical case is inaccurate, where observations and sample mean's are relatively different from one and other\n",
    "#This will be the alternative hypothesis (H1)\n",
    "#Observed mean = 3050\n",
    "#Sample (predicted) mean = 1000 + (5*600) = 1000+3000 =4000"
   ]
  },
  {
   "cell_type": "code",
   "execution_count": 52,
   "id": "8f35b309",
   "metadata": {},
   "outputs": [
    {
     "name": "stdout",
     "output_type": "stream",
     "text": [
      "Test_statistic : -38.0\n"
     ]
    }
   ],
   "source": [
    "#Calculating test statistic\n",
    "\n",
    "import scipy.stats as stats\n",
    "\n",
    "t = (x - μ) / ( σ/ (n ** 0.5))\n",
    "print(\"Test_statistic :\",t)"
   ]
  },
  {
   "cell_type": "code",
   "execution_count": 53,
   "id": "5403b88d",
   "metadata": {},
   "outputs": [
    {
     "name": "stdout",
     "output_type": "stream",
     "text": [
      "Critical value: 1.6448536269514722\n"
     ]
    }
   ],
   "source": [
    "#Considering alpha level of 5% (α = 0.05), determining the critical value from the standard normal (Z) distribution table.\n",
    "\n",
    "alpha = 0.05\n",
    "z_critical = stats.norm.ppf(1 - alpha)\n",
    "print(\"Critical value:\", z_critical)\n"
   ]
  },
  {
   "cell_type": "code",
   "execution_count": 61,
   "id": "54362f67",
   "metadata": {},
   "outputs": [
    {
     "name": "stdout",
     "output_type": "stream",
     "text": [
      "Test statistic is not greater than the critical value, null hypothesis is accepted.\n"
     ]
    }
   ],
   "source": [
    "#Comparing the test statistic with the critical value to decide whether to reject the null hypothesis or accept it.\n",
    "\n",
    "if t > z_critical:\n",
    "  print(\"Test statistic is greater than the critical value, null hypothesis is rejected.\")\n",
    "else:\n",
    "  print(\"Test statistic is not greater than the critical value, null hypothesis is accepted.\")\n"
   ]
  },
  {
   "cell_type": "code",
   "execution_count": 71,
   "id": "c810d750",
   "metadata": {},
   "outputs": [
    {
     "data": {
      "text/plain": [
       "0.0"
      ]
     },
     "execution_count": 71,
     "metadata": {},
     "output_type": "execute_result"
    }
   ],
   "source": [
    "p_value = stats.norm.cdf(z)\n",
    "p_value"
   ]
  },
  {
   "cell_type": "code",
   "execution_count": 68,
   "id": "a5f6daf6",
   "metadata": {},
   "outputs": [
    {
     "name": "stdout",
     "output_type": "stream",
     "text": [
      "Null Hypothesis is rejected\n"
     ]
    }
   ],
   "source": [
    "#Making a decision\n",
    "\n",
    "p_value = stats.norm.cdf(z)\n",
    "if p_value < 0.05:\n",
    "    print(\"Null Hypothesis is rejected\")\n",
    "else:\n",
    "    print(\"Null Hypothesis is accepted\")\n",
    "    \n",
    "#p-value is less that alpha value, so null hypothesis is rejected    "
   ]
  },
  {
   "cell_type": "code",
   "execution_count": 69,
   "id": "eb7bf981",
   "metadata": {},
   "outputs": [
    {
     "name": "stdout",
     "output_type": "stream",
     "text": [
      "Yes! There is strong evidence to support the restaurant owners' claim that the weekly operating costs are higher than the model suggests.\n"
     ]
    }
   ],
   "source": [
    "#Based on the decision made in the above code line, concluding whether there is strong evidence to support the restaurant owners' claim that the weekly operating costs are higher than the model suggests.\n",
    "\n",
    "if decision == \"Null Hypothesis is rejected\":\n",
    "  print(\"Yes! There is strong evidence to support the restaurant owners' claim that the weekly operating costs are higher than the model suggests.\")\n",
    "else:\n",
    "  print(\"Oops! Sorry, there is no strong evidence to support the restaurant owners' claim that the weekly operating costs are higher than the model suggests.\")\n"
   ]
  },
  {
   "cell_type": "code",
   "execution_count": null,
   "id": "4c8c49f8",
   "metadata": {},
   "outputs": [],
   "source": []
  }
 ],
 "metadata": {
  "kernelspec": {
   "display_name": "Python 3 (ipykernel)",
   "language": "python",
   "name": "python3"
  },
  "language_info": {
   "codemirror_mode": {
    "name": "ipython",
    "version": 3
   },
   "file_extension": ".py",
   "mimetype": "text/x-python",
   "name": "python",
   "nbconvert_exporter": "python",
   "pygments_lexer": "ipython3",
   "version": "3.11.5"
  }
 },
 "nbformat": 4,
 "nbformat_minor": 5
}
