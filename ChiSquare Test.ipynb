{
 "cells": [
  {
   "cell_type": "code",
   "execution_count": null,
   "id": "61261178",
   "metadata": {},
   "outputs": [],
   "source": [
    "#alpha = 0.05\n",
    "#degree of freedom = 4-1 =3\n",
    "#n =4\n",
    "\n",
    "#Hypothesis - Chi-Squared Test\n",
    "#Ho : Assuming that there is no significant association between the type of smart-home device purchased and customer satisfaction.\n",
    "#H1 : Assuming that there is a significant association between the type of smart-home device purchased and customer satisfaction."
   ]
  },
  {
   "cell_type": "code",
   "execution_count": 68,
   "id": "07e1094a",
   "metadata": {},
   "outputs": [],
   "source": [
    "#importing the library frommscipy.stats and defining the two columns with chi square test.\n",
    "#using cross tabulation function from pandas library, the occurences are counted from column1 and column2 \n",
    "\n",
    "import numpy as np\n",
    "from scipy.stats import chi2_contingency\n",
    "\n",
    "observed_values = np.array([[50,70],\n",
    "                            [80,100],\n",
    "                            [60,90],\n",
    "                            [30,50],\n",
    "                            [20,50]])\n",
    "\n",
    "def performing_chi_square_test(col1, col2):\n",
    "    contingency_table=pd.crosstab(data[col1], data[col2])"
   ]
  },
  {
   "cell_type": "code",
   "execution_count": 69,
   "id": "e0f3bee7",
   "metadata": {},
   "outputs": [
    {
     "name": "stdout",
     "output_type": "stream",
     "text": [
      "Chi square statistics: 5.638227513227513\n"
     ]
    }
   ],
   "source": [
    "#Chi-square statistics is calculated \n",
    "\n",
    "chi2, dof, p, expected = chi2_contingency(observed_values)\n",
    "print(\"Chi square statistics:\", chi2)"
   ]
  },
  {
   "cell_type": "code",
   "execution_count": 70,
   "id": "05341d6b",
   "metadata": {},
   "outputs": [
    {
     "name": "stdout",
     "output_type": "stream",
     "text": [
      "Critical value 0.22784371130697179\n"
     ]
    }
   ],
   "source": [
    "#Critical value is calculated where alpha is 0.05 and degree of freedom is number of categories minus one.\n",
    "\n",
    "alpha = 0.05\n",
    "chi_critical = chi2_contingency(observed_values)[1]\n",
    "print(\"Critical value\", chi_critical)"
   ]
  },
  {
   "cell_type": "code",
   "execution_count": 72,
   "id": "a79bc9f7",
   "metadata": {},
   "outputs": [
    {
     "name": "stdout",
     "output_type": "stream",
     "text": [
      "H0 is accepted, H1 is rejected\n"
     ]
    }
   ],
   "source": [
    "#Making the decision, comparing chi-squared value to critical value \n",
    "#if chi2 is greater than critical value then the null hypothesis is accepted, if it is lesser, then null hypothesis is rejected.\n",
    "\n",
    "if chi2 > chi_critical:\n",
    "    print(\"H0 is accepted, H1 is rejected\")\n",
    " else:\n",
    "        print(\"H1 is rejected, H1 is accepted\")"
   ]
  },
  {
   "cell_type": "code",
   "execution_count": null,
   "id": "fc3c7262",
   "metadata": {},
   "outputs": [],
   "source": []
  }
 ],
 "metadata": {
  "kernelspec": {
   "display_name": "Python 3 (ipykernel)",
   "language": "python",
   "name": "python3"
  },
  "language_info": {
   "codemirror_mode": {
    "name": "ipython",
    "version": 3
   },
   "file_extension": ".py",
   "mimetype": "text/x-python",
   "name": "python",
   "nbconvert_exporter": "python",
   "pygments_lexer": "ipython3",
   "version": "3.11.5"
  }
 },
 "nbformat": 4,
 "nbformat_minor": 5
}
